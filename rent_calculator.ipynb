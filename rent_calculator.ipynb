{
 "cells": [
  {
   "cell_type": "code",
   "execution_count": null,
   "id": "43a5b06d-8134-4cc2-a545-1a4673281c11",
   "metadata": {},
   "outputs": [],
   "source": [
    "# rent calculator \n",
    "# taking input from user \n",
    "#1. rent of the flat/ room\n",
    "#2. elcticity unit used \n",
    "#3. electricity per unit charge \n",
    "#4. water unit used \n",
    "#5. water per unit charge \n",
    "#6. total amount spend on groceries \n",
    "#7. total amount spend on food\n",
    "#8. number of people living in flat/room\n"
   ]
  },
  {
   "cell_type": "code",
   "execution_count": 3,
   "id": "dfb2dbc6-b907-4219-97dd-92035517a9c0",
   "metadata": {},
   "outputs": [
    {
     "name": "stdin",
     "output_type": "stream",
     "text": [
      "enter the rent of the flat/room =  5000\n",
      "enter the amount spend on groceries =  4000\n",
      "enter the amount spend on food =  4000\n",
      "enter the number of people living in room/flat =  6\n",
      "enter the electricity unit used =  500\n",
      "enter the electricity per unit charge =  10\n",
      "enter the water unit used =  300\n",
      "enter the water per unit charge =  10\n"
     ]
    },
    {
     "name": "stdout",
     "output_type": "stream",
     "text": [
      "the total amount =  21000\n",
      "the amount each person will pay =  3500\n"
     ]
    }
   ],
   "source": [
    "house_rent = int(input(\"enter the rent of the flat/room = \"))\n",
    "groceries =  int(input(\"enter the amount spend on groceries = \"))\n",
    "food =  int(input(\"enter the amount spend on food = \"))\n",
    "number_of_people = int(input(\"enter the number of people living in room/flat = \"))\n",
    "electricity_unit = int(input(\"enter the electricity unit used = \"))\n",
    "electricity_per_unit_charge = int(input(\"enter the electricity per unit charge = \"))\n",
    "water_unit = int(input(\"enter the water unit used = \"))\n",
    "water_per_unit_charge = int(input(\"enter the water per unit charge = \"))\n",
    "\n",
    "electricity_bill = electricity_unit * electricity_per_unit_charge \n",
    "water_bill = water_unit*water_per_unit_charge\n",
    "\n",
    "total_amount_spend = house_rent+ groceries +food +electricity_bill+water_bill\n",
    "print(\"the total amount = \", total_amount_spend)\n",
    "\n",
    "total_amount_each_person_pay = (house_rent+ groceries +food +electricity_bill+water_bill)//number_of_people\n",
    "print(\"the amount each person will pay = \", total_amount_each_person_pay)"
   ]
  },
  {
   "cell_type": "code",
   "execution_count": null,
   "id": "1a366c23-3e89-4f8c-a96b-00839c44aa27",
   "metadata": {},
   "outputs": [],
   "source": []
  },
  {
   "cell_type": "code",
   "execution_count": null,
   "id": "540e32a6-3246-46a1-8cff-b83901a330c0",
   "metadata": {},
   "outputs": [],
   "source": []
  },
  {
   "cell_type": "code",
   "execution_count": null,
   "id": "c0ae3228-a849-46b9-9732-eebb5b77e9c2",
   "metadata": {},
   "outputs": [],
   "source": []
  }
 ],
 "metadata": {
  "kernelspec": {
   "display_name": "Python 3 (ipykernel)",
   "language": "python",
   "name": "python3"
  },
  "language_info": {
   "codemirror_mode": {
    "name": "ipython",
    "version": 3
   },
   "file_extension": ".py",
   "mimetype": "text/x-python",
   "name": "python",
   "nbconvert_exporter": "python",
   "pygments_lexer": "ipython3",
   "version": "3.12.4"
  }
 },
 "nbformat": 4,
 "nbformat_minor": 5
}
